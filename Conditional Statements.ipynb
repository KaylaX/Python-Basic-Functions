{
 "cells": [
  {
   "cell_type": "markdown",
   "metadata": {},
   "source": [
    "# If Statement"
   ]
  },
  {
   "cell_type": "code",
   "execution_count": 1,
   "metadata": {},
   "outputs": [
    {
     "name": "stdout",
     "output_type": "stream",
     "text": [
      "The value of x is positive\n",
      "This is a second statement\n",
      "I am not part of the if statement\n"
     ]
    }
   ],
   "source": [
    "x=3\n",
    "\n",
    "if x>0: #automatically indention\n",
    "    print(\"The value of x is positive\")\n",
    "    print(\"This is a second statement\")\n",
    "    \n",
    "print(\"I am not part of the if statement\")"
   ]
  },
  {
   "cell_type": "markdown",
   "metadata": {},
   "source": [
    "# If-else statement"
   ]
  },
  {
   "cell_type": "code",
   "execution_count": 2,
   "metadata": {},
   "outputs": [
    {
     "name": "stdout",
     "output_type": "stream",
     "text": [
      "x is not positive\n"
     ]
    }
   ],
   "source": [
    "x=-4\n",
    "\n",
    "if x>0:\n",
    "    print(\"x is positive\")\n",
    "else:\n",
    "    print(\"x is not positive\")\n"
   ]
  },
  {
   "cell_type": "code",
   "execution_count": 6,
   "metadata": {},
   "outputs": [
    {
     "name": "stdout",
     "output_type": "stream",
     "text": [
      "Please enter an integer:7\n",
      "7 is an odd number\n"
     ]
    }
   ],
   "source": [
    "integer=int(input(\"Please enter an integer:\"))\n",
    "\n",
    "if integer%2==0:\n",
    "    print(integer,\"is an even number\")\n",
    "else:\n",
    "    print(integer,\"is an odd number\")"
   ]
  },
  {
   "cell_type": "markdown",
   "metadata": {},
   "source": [
    "# Nested if statement"
   ]
  },
  {
   "cell_type": "code",
   "execution_count": 7,
   "metadata": {},
   "outputs": [
    {
     "name": "stdout",
     "output_type": "stream",
     "text": [
      "x is less than y\n"
     ]
    }
   ],
   "source": [
    "x=3\n",
    "y=7\n",
    "\n",
    "if x==y:\n",
    "    print(\"x is equal to y\")\n",
    "else:\n",
    "    if x>y:\n",
    "        print(\"x is greater than y\")\n",
    "    else:\n",
    "        print(\"x is less than y\")"
   ]
  },
  {
   "cell_type": "markdown",
   "metadata": {
    "collapsed": true
   },
   "source": [
    "# Elif statement"
   ]
  },
  {
   "cell_type": "code",
   "execution_count": 3,
   "metadata": {},
   "outputs": [
    {
     "name": "stdout",
     "output_type": "stream",
     "text": [
      "x is less than y\n"
     ]
    }
   ],
   "source": [
    "# Another way of solving the above problem without nested if statements\n",
    "\n",
    "x=3\n",
    "y=7\n",
    "\n",
    "if x==y:\n",
    "    print(\"x is equal to y\")\n",
    "elif x>y:\n",
    "    print(\"x is greater than y\")\n",
    "else:\n",
    "    print(\"x is less than y\")"
   ]
  },
  {
   "cell_type": "markdown",
   "metadata": {
    "collapsed": true
   },
   "source": [
    "## Catching Exceptions using try and except commands"
   ]
  },
  {
   "cell_type": "code",
   "execution_count": 8,
   "metadata": {},
   "outputs": [
    {
     "name": "stdout",
     "output_type": "stream",
     "text": [
      "Enter a number:jhh\n",
      "Please enter an interger!\n"
     ]
    }
   ],
   "source": [
    "inp=input(\"Enter a number:\")\n",
    "\n",
    "try:\n",
    "    sqr=int(inp**2) #you transform the input format later (now), not before\n",
    "    print(sqr)\n",
    "\n",
    "except:\n",
    "    print(\"Please enter an interger!\")"
   ]
  },
  {
   "cell_type": "code",
   "execution_count": 10,
   "metadata": {},
   "outputs": [
    {
     "name": "stdout",
     "output_type": "stream",
     "text": [
      "Enter your hours:50\n",
      "Enter the rate:1\n",
      "Your gross pay is: 55.0\n"
     ]
    }
   ],
   "source": [
    "# Question Number 3\n",
    "\n",
    "hours=int(input(\"Enter your hours:\"))\n",
    "rate=int(input(\"Enter the rate:\"))\n",
    "\n",
    "if hours>40:\n",
    "    gross_pay=(hours-40)*1.5*rate+40*rate\n",
    "else:\n",
    "    gross_pay=hours*rate\n",
    "    \n",
    "print(\"Your gross pay is:\",gross_pay)"
   ]
  },
  {
   "cell_type": "code",
   "execution_count": 11,
   "metadata": {},
   "outputs": [
    {
     "name": "stdout",
     "output_type": "stream",
     "text": [
      "Enter your hours:30\n",
      "Enter the rate:h\n",
      "Please enter a number\n"
     ]
    }
   ],
   "source": [
    "# Question Number 4\n",
    "\n",
    "try:\n",
    "    hours=int(input(\"Enter your hours:\"))\n",
    "    rate=int(input(\"Enter the rate:\"))\n",
    "\n",
    "    if hours>40:\n",
    "        gross_pay=(hours-40)*1.5*rate+40*rate\n",
    "    else:\n",
    "        gross_pay=hours*rate\n",
    "\n",
    "    print(\"Your gross pay is:\",gross_pay)\n",
    "\n",
    "except:\n",
    "    print(\"Please enter a number\")"
   ]
  },
  {
   "cell_type": "code",
   "execution_count": null,
   "metadata": {
    "collapsed": true
   },
   "outputs": [],
   "source": []
  }
 ],
 "metadata": {
  "kernelspec": {
   "display_name": "Python 3",
   "language": "python",
   "name": "python3"
  },
  "language_info": {
   "codemirror_mode": {
    "name": "ipython",
    "version": 3
   },
   "file_extension": ".py",
   "mimetype": "text/x-python",
   "name": "python",
   "nbconvert_exporter": "python",
   "pygments_lexer": "ipython3",
   "version": "3.6.3"
  }
 },
 "nbformat": 4,
 "nbformat_minor": 2
}
