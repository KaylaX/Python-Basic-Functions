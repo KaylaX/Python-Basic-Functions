{
 "cells": [
  {
   "cell_type": "markdown",
   "metadata": {},
   "source": [
    "# Review of Python Constructs\n",
    "\n",
    "\n",
    "- numpy: for numpy arrays, which allows for efficient calculation of lists or tables of numbers. (If we had used list, then we cannot for example add 3 to every number at once, but have to go through the list one at a time and modify. This efficient operation at once is called vectorized operations.)\n",
    "- scipy.stats: this is for defining distributions and generating random samples. The command rvs generates the random samples.\n",
    "- matplotlib.pyplot: this is used for plotting.\n",
    "- pandas: this is used to work with data in table format with row/column labels. We will not be focusing on this package in this class.\n",
    "\n",
    "\n",
    "## Assignment\n",
    "```python\n",
    "x=5 # single variable assignment\n",
    "x,y=(3,5) # multiple assignment from tuple\n",
    "x,y,z=[1,2,3] # multiple assignment from list\n",
    "\n",
    "def f():\n",
    "    return 1,2,3\n",
    "x,y,z=f()  # multiple assignment from function return\n",
    "```\n",
    "\n",
    "**Scope of variables:**\n",
    "Variables created inside a function can only be accessed inside the function but not outside. Functions created outside the function, if not overwritten by the function, can also be accessed inside the function. In the following example, the variable `s` created inside the function is accessible only inside the function, but not outside. Similar statement holds for the input argument `x` to the function. However, the variable `y` created outside the function is also accessible inside the function, because it is neither an input argument to `f` nor a local variable created in `f`."
   ]
  },
  {
   "cell_type": "code",
   "execution_count": 4,
   "metadata": {},
   "outputs": [
    {
     "name": "stdout",
     "output_type": "stream",
     "text": [
      "Inside f: x=1, y=10, s=6\n",
      "Outside f: x=5, y=10, s=None\n"
     ]
    }
   ],
   "source": [
    "x=5\n",
    "y=10\n",
    "l=5\n",
    "s=None\n",
    "def f(x):\n",
    "    s=x+l\n",
    "    print('Inside f: x={0}, y={1}, s={2}'.format(x,y,s))\n",
    "    return 2*x\n",
    "f(1)\n",
    "print('Outside f: x={0}, y={1}, s={2}'.format(x,y,s))"
   ]
  },
  {
   "cell_type": "markdown",
   "metadata": {},
   "source": [
    "## Conditional statements\n",
    "The following code illustrates the use of conditionals in Python. The code sets variable `ans` based on the sign of variable `x`.\n",
    "```python\n",
    "if x>0:\n",
    "    ans='Positive'\n",
    "elif x<0:\n",
    "    ans='Negative'\n",
    "else:\n",
    "    ans='Zero'\n",
    "```\n",
    "\n",
    "## For loops\n",
    "The following code illustrate the syntax of a for loop."
   ]
  },
  {
   "cell_type": "code",
   "execution_count": 5,
   "metadata": {},
   "outputs": [
    {
     "name": "stdout",
     "output_type": "stream",
     "text": [
      "1\n",
      "3\n",
      "5\n"
     ]
    }
   ],
   "source": [
    "for i in [1,3,5]:\n",
    "    print(i)"
   ]
  },
  {
   "cell_type": "markdown",
   "metadata": {},
   "source": [
    "The above example iterates through a `list`. You can also iterate through any iterable object, including `range`, `set`, `dict`, `numpy.ndarray`, `pandas.Series`, `pandas.DataFrame`. For sets and dictionaries, the iteration is through the keys in no particular order. For numpy arrays, the iteration is through the first dimension (which is iterating through rows if 2-D array is used). For DataFrame, the iteration is through the column indices. \n",
    "\n",
    "The command `break` exits the current loop. The command `continue` skips the current iteration. See example below."
   ]
  },
  {
   "cell_type": "code",
   "execution_count": 19,
   "metadata": {},
   "outputs": [
    {
     "name": "stdout",
     "output_type": "stream",
     "text": [
      "0\n",
      "1\n",
      "3\n",
      "4\n",
      "5\n"
     ]
    }
   ],
   "source": [
    "for i in range(10):\n",
    "    if i==2:\n",
    "        continue\n",
    "    if i==6:\n",
    "        break\n",
    "    print(i)"
   ]
  },
  {
   "cell_type": "markdown",
   "metadata": {},
   "source": [
    "## Strings\n",
    "\n",
    "We can print a string to screen using the `print` command. The format is `print(s)` where `s` is a `str` type object.\n",
    "\n",
    "It is useful to format the string, as follows\n",
    "\n"
   ]
  },
  {
   "cell_type": "code",
   "execution_count": 20,
   "metadata": {},
   "outputs": [
    {
     "name": "stdout",
     "output_type": "stream",
     "text": [
      "y=2, x=1\n"
     ]
    }
   ],
   "source": [
    "x=1\n",
    "y=2\n",
    "print('y={1}, x={0}'.format(x,y))"
   ]
  },
  {
   "cell_type": "markdown",
   "metadata": {},
   "source": [
    "Notice that `{0}` is a place holder for the first argument of format, which is `x`, and `{1}` is a place holder for the second one.\n",
    "\n",
    "For decimal numbers, you can specify how to display it using the following notation. Here, `f` stands for leaving it as float, `%` stands for converting it to percentages. And `.2` or `.1` specifies how many decimal places."
   ]
  },
  {
   "cell_type": "code",
   "execution_count": 26,
   "metadata": {},
   "outputs": [
    {
     "name": "stdout",
     "output_type": "stream",
     "text": [
      "x=1.13 converted to int=113.3%\n"
     ]
    }
   ],
   "source": [
    "x=1.133\n",
    "y=1.244\n",
    "print('x={0:.2f} converted to int={0:.1%}'.format(x,y))"
   ]
  },
  {
   "cell_type": "markdown",
   "metadata": {},
   "source": [
    "We can split a string by a substring, or join a list of strings by a substring as follows."
   ]
  },
  {
   "cell_type": "code",
   "execution_count": 28,
   "metadata": {},
   "outputs": [
    {
     "name": "stdout",
     "output_type": "stream",
     "text": [
      "['A', 'B', 'C']\n",
      "A-B-C\n"
     ]
    }
   ],
   "source": [
    "l='A B C'.split(' ')\n",
    "print(l)\n",
    "print('-'.join(l))"
   ]
  },
  {
   "cell_type": "markdown",
   "metadata": {},
   "source": [
    "## Lists\n",
    "\n",
    "The following code illustrates the syntax of operations with lists."
   ]
  },
  {
   "cell_type": "code",
   "execution_count": 228,
   "metadata": {},
   "outputs": [
    {
     "name": "stdout",
     "output_type": "stream",
     "text": [
      "l= [1, 4, [1, 3], 4, 5]\n",
      "len(l)= 5\n",
      "l[2]= [1, 3]\n",
      "l[2][0]= 1\n",
      "l[-1]= 5\n",
      "l[1:4]= [4, [1, 3], 4]\n",
      "l[:-1]= [1, 4, [1, 3], 4]\n",
      "After appending '6', l= [1, 4, [1, 3], 4, 5, '6']\n",
      "l.index(4)= 1\n",
      "l.index([1,3])= 2\n"
     ]
    }
   ],
   "source": [
    "l=[1,4,[1, 3],4,5] # Defining\n",
    "print('l=',l)\n",
    "print('len(l)=',len(l))\n",
    "print('l[2]=',l[2])     # Indexing\n",
    "print('l[2][0]=',l[2][0])     # Indexing\n",
    "print('l[-1]=',l[-1])\n",
    "print('l[1:4]=',l[1:4]) # Slicing\n",
    "print('l[:-1]=',l[:-1]) # Slicing\n",
    "l.append('6')\n",
    "print(\"After appending '6', l=\",l)\n",
    "print('l.index(4)=',l.index(4)) # Search through the list for 4 (returns first found)\n",
    "print('l.index([1,3])=',l.index([1,3]))  # Search through the list for [1,6]"
   ]
  },
  {
   "cell_type": "markdown",
   "metadata": {},
   "source": [
    "We can create a list by list comprehension as below. \n",
    "\n",
    "Instead of the for loop\n",
    "```python\n",
    "l=[]\n",
    "for ind in range(5):\n",
    "    l.append(ind*ind)\n",
    "```\n",
    "\n",
    "We can do everything in one line.\n",
    "```python\n",
    "l=[ind*ind for ind in range(5)]\n",
    "```\n"
   ]
  },
  {
   "cell_type": "code",
   "execution_count": 2,
   "metadata": {},
   "outputs": [
    {
     "data": {
      "text/plain": [
       "[0, 1, 4, 9, 16]"
      ]
     },
     "execution_count": 2,
     "metadata": {},
     "output_type": "execute_result"
    }
   ],
   "source": [
    "l=[ind*ind for ind in range(5)]\n",
    "l"
   ]
  },
  {
   "cell_type": "markdown",
   "metadata": {},
   "source": [
    "## Range-like lists\n",
    "Instead of explicitly defining the list of elements to iterate through, we can use `range`, where `range(5)` is the same as `[0,1,2,3,4]`, `range(2,5)` is the same as `[2,3,4]`, and `range(2,10,2)` is the same as `[2,4,6,8]`. \n",
    "\n",
    "The format for `range` is `range(beg,stop,skip)`, where `beg` is where to begin, `stop` is where to stop (range stops before this value), and `skip` is how many values to skip each time. Instead of specifying 3 input arguments, one can also do the following shorthands.\n",
    "\n",
    "| Shorthand | Equivalent to |\n",
    "|---|---|\n",
    "|`range(n)` | `range(0,n,1)`|\n",
    "|`range(m,n)` | `range(m,n,1)`|\n",
    "\n",
    "All inputs to `range` must be integers.\n"
   ]
  },
  {
   "cell_type": "code",
   "execution_count": 12,
   "metadata": {},
   "outputs": [
    {
     "name": "stdout",
     "output_type": "stream",
     "text": [
      "[0, 1, 2, 3, 4]\n",
      "[2, 3, 4]\n",
      "[2, 4, 6, 8]\n",
      "[5, 4, 3]\n"
     ]
    }
   ],
   "source": [
    "print(list(range(5)))\n",
    "print(list(range(2,5)))\n",
    "print(list(range(2,10,2)))\n",
    "print(list(range(5,2,-1)))"
   ]
  },
  {
   "cell_type": "markdown",
   "metadata": {},
   "source": [
    "On the other hand, `np.arange` allows for fractions. Moreover, the returned values are `numpy.ndarray` objects rather than `range` objects. Otherwise, the format is similar to the above."
   ]
  },
  {
   "cell_type": "code",
   "execution_count": 13,
   "metadata": {},
   "outputs": [
    {
     "name": "stdout",
     "output_type": "stream",
     "text": [
      "[0 1 2 3 4]\n",
      "[ 2.1  3.1  4.1  5.1]\n",
      "[ 2.2  4.2  6.2  8.2]\n",
      "[ 5.2  4.2  3.2]\n"
     ]
    }
   ],
   "source": [
    "import numpy as np\n",
    "print(np.arange(5))\n",
    "print(np.arange(2.1,5.5))\n",
    "print(np.arange(2.2,10.2,2))\n",
    "print(np.arange(5.2,2.2,-1))"
   ]
  },
  {
   "cell_type": "markdown",
   "metadata": {},
   "source": [
    "**`np.linspace`**\n",
    "\n",
    "An alternative to `np.arange` is `np.linspace`, in which instead of specifying skip size, we specify the first number, the last number, and how many points to have in the middle. See the following examples."
   ]
  },
  {
   "cell_type": "code",
   "execution_count": 14,
   "metadata": {},
   "outputs": [
    {
     "name": "stdout",
     "output_type": "stream",
     "text": [
      "[ 1.          2.33333333  3.66666667  5.        ]\n",
      "[ 1.    0.75  0.5   0.25  0.  ]\n"
     ]
    }
   ],
   "source": [
    "print(np.linspace(1,5,4))\n",
    "print(np.linspace(1,0,5))"
   ]
  },
  {
   "cell_type": "markdown",
   "metadata": {},
   "source": [
    "## Sets and Dictionaries\n",
    "\n",
    "Sets and dictionaries are not in Exam 1 but it is good to review anyway.\n",
    "\n",
    "Both sets and dictionaries have unique keys and can be explicitly created by curly braces. Moreover, neither of them preserve the order of elements.\n",
    "```python\n",
    "s={3,1,5}\n",
    "d={3:'3',1:'1',5:'5'}\n",
    "```\n",
    "The difference is that dictionary also maps each of the unique keys to a value. See syntax of common operations below."
   ]
  },
  {
   "cell_type": "code",
   "execution_count": 215,
   "metadata": {},
   "outputs": [
    {
     "name": "stdout",
     "output_type": "stream",
     "text": [
      "{1, 3, 5}\n",
      "{1, 3, 4, 5}\n",
      "{1, 3, 5}\n",
      "1\n",
      "3\n",
      "5\n",
      "True\n",
      "False\n",
      "Union of s and s2 {1, 3, 5, 6, 8}\n",
      "Intersection of s and s2 {5}\n",
      "set([3,1,1,1,5])= {1, 3, 5}\n"
     ]
    }
   ],
   "source": [
    "# Sets\n",
    "s={3,1,5}\n",
    "print(s)\n",
    "print('len(s)=',len(s))\n",
    "s.add(4)    # Adding to set\n",
    "print(s)\n",
    "s.remove(4)  # Removing from set\n",
    "print(s)   \n",
    "\n",
    "for e in s:  # Iterating through set\n",
    "    print(e)\n",
    "print (5 in s) # checking membership\n",
    "print(8 in s)\n",
    "\n",
    "s2={5,6,8}\n",
    "print('Union of s and s2',s|s2)\n",
    "print('Intersection of s and s2',s & s2)\n",
    "\n",
    "print('set([3,1,1,1,5])=',set([3,1,1,1,5])) # Converting from list"
   ]
  },
  {
   "cell_type": "code",
   "execution_count": 229,
   "metadata": {},
   "outputs": [
    {
     "name": "stdout",
     "output_type": "stream",
     "text": [
      "{3: 'S3', 1: 'S1', 5: 'S5'}\n",
      "len(d)= 3\n",
      "{3: 'S3', 1: 'S1', 5: 'S5', 4: 'S4'}\n",
      "{3: 'S3', 1: 'S1', 5: 'S5'}\n",
      "Key 3 maps to value S3\n",
      "Key 1 maps to value S1\n",
      "Key 5 maps to value S5\n",
      "True\n",
      "False\n",
      "dict([(3,'3'),(1,'1'),(5,'5')])= {3: '3', 1: '1', 5: '5'}\n"
     ]
    }
   ],
   "source": [
    "# Dictionaries\n",
    "d={3:'S3',1:'S1',5:'S5'}\n",
    "print(d)\n",
    "print('len(d)=',len(d))\n",
    "d[4]='S4'  # Adding (key,value) pair\n",
    "print(d)\n",
    "del d[4]  # Removing key \n",
    "print(d)\n",
    "\n",
    "for e in d:  # Iterating through keys\n",
    "    print('Key {0} maps to value {1}'.format(e,d[e]))\n",
    "print (5 in d) # checking membership\n",
    "print(8 in d)\n",
    "\n",
    "# Converting from list of tuples\n",
    "print(\"dict([(3,'3'),(1,'1'),(5,'5')])=\",dict([(3,'3'),(1,'1'),(5,'5')])) "
   ]
  },
  {
   "cell_type": "markdown",
   "metadata": {},
   "source": [
    "## Functions\n",
    "\n",
    "Functions are defined using the syntax as below.\n",
    "\n",
    "```python\n",
    "def func(x,y=2,z=5):\n",
    "    ''' Documentation for readers \n",
    "    This function adds the three inputs and returns the sum.'''\n",
    "    s=x+y+z\n",
    "    return s\n",
    "```\n",
    "\n",
    "This code creates the object `func` with type `function`. Based on this code, the function can take 3 inputs, with the first input `x` mandatory and the second two inputs `y` and `z` optional. The default setting of those inputs are given by the equal signs. This function returns the object `s` which is created inside the function and is equal to the sum of the three inputs. \n",
    "\n",
    "We can specify a single line comment by `#`, and a multiple line comment by enclosing with `'''`. The above multi-line comment after the function definition is called the \"docstring\", and it is what is displayed when user looks up the function on `help`."
   ]
  },
  {
   "cell_type": "code",
   "execution_count": 141,
   "metadata": {},
   "outputs": [
    {
     "name": "stdout",
     "output_type": "stream",
     "text": [
      "8\n",
      "9\n",
      "10\n",
      "7\n",
      "Help on function func in module __main__:\n",
      "\n",
      "func(x, y=2, z=5)\n",
      "    Documentation for readers \n",
      "    This function adds the three inputs and returns the sum.\n",
      "\n"
     ]
    }
   ],
   "source": [
    "def func(x,y=2,z=5):\n",
    "    ''' Documentation for readers \n",
    "    This function adds the three inputs and returns the sum.'''\n",
    "    s=x+y+z\n",
    "    return s\n",
    "\n",
    "print(func(1))\n",
    "print(func(1,3))\n",
    "print(func(1,3,6))\n",
    "print(func(1,z=4))\n",
    "help(func)"
   ]
  },
  {
   "cell_type": "markdown",
   "metadata": {},
   "source": [
    "## Distributions\n",
    "Following are examples of declaring various distributions and calling it X.\n",
    "\n",
    "```python\n",
    "from scipy.stats import norm,uniform,binom,geom,poisson,expon\n",
    "X=bernoulli(p=0.5)        # Bernoulli with p=0.5 (coin flip)\n",
    "X=norm(loc=100,scale=30)    # Mean 100, St. Dev. 30\n",
    "X=uniform(loc=10,scale=30)  # Uniform between 10 and 10+30=40\n",
    "X=binom(n=100,p=0.5)     # Binomial with n=100, p=0.5\n",
    "X=geom(p=0.3)       # Geometric with p=0.3\n",
    "X=poisson(mu=10)    # Poisson with mean 10\n",
    "X=expon(scale=30)   # Exponential with mean 30\n",
    "```\n",
    "\n",
    "Given any of the above, we can calculate the mean, standard deviation, variance as below."
   ]
  },
  {
   "cell_type": "code",
   "execution_count": 171,
   "metadata": {},
   "outputs": [
    {
     "name": "stdout",
     "output_type": "stream",
     "text": [
      "mean 100.0\n",
      "std 30.0\n",
      "var 900.0\n"
     ]
    }
   ],
   "source": [
    "from scipy.stats import norm\n",
    "X=norm(loc=100,scale=30)    # Mean 100, St. Dev. 30\n",
    "print('mean',X.mean())\n",
    "print('std',X.std())\n",
    "print('var',X.var())"
   ]
  },
  {
   "cell_type": "markdown",
   "metadata": {},
   "source": [
    "For continuous distributions, we can compute the CDF and PDF as below, for any given array of values."
   ]
  },
  {
   "cell_type": "code",
   "execution_count": 176,
   "metadata": {},
   "outputs": [
    {
     "name": "stdout",
     "output_type": "stream",
     "text": [
      "Normal distribution with mean 100 and st. dev. 30\n",
      "values= [  50.   75.  100.  125.  150.]\n",
      "X.cdf(values)= [ 0.04779035  0.20232838  0.5         0.79767162  0.95220965]\n",
      "X.pdf(values)= [ 0.0033159   0.00939706  0.01329808  0.00939706  0.0033159 ]\n"
     ]
    }
   ],
   "source": [
    "from scipy.stats import norm\n",
    "print('Normal distribution with mean 100 and st. dev. 30')\n",
    "X=norm(loc=100,scale=30)    \n",
    "values=np.linspace(50,150,5)\n",
    "print('values=',values)\n",
    "print('X.cdf(values)=',X.cdf(values)) # Prob X is no more than each value\n",
    "print('X.pdf(values)=',X.pdf(values)) # Derivative of CDF"
   ]
  },
  {
   "cell_type": "markdown",
   "metadata": {},
   "source": [
    "For discrete distributions, the CDF and PMF follow a similar syntax."
   ]
  },
  {
   "cell_type": "code",
   "execution_count": 178,
   "metadata": {},
   "outputs": [
    {
     "name": "stdout",
     "output_type": "stream",
     "text": [
      " Binomial distribution with n=100, p=0.8\n",
      "values= [  0  20  40  60  80 100]\n",
      "X.cdf(values)= [  1.26765060e-70   7.95989864e-38   2.51581920e-18   3.60842011e-06\n",
      "   5.39838630e-01   1.00000000e+00]\n",
      "X.pmf(values)= [  1.26765060e-70   7.47051786e-38   2.10660425e-18   2.31623587e-06\n",
      "   9.93002148e-02   2.03703598e-10]\n"
     ]
    }
   ],
   "source": [
    "from scipy.stats import binom\n",
    "print(' Binomial distribution with n=100, p=0.8')\n",
    "X=binom(n=100,p=.8)    \n",
    "values=np.arange(0,101,20)\n",
    "print('values=',values)\n",
    "print('X.cdf(values)=',X.cdf(values)) # Prob X is no more than each value\n",
    "print('X.pmf(values)=',X.pmf(values)) # Prob X is equal to each value"
   ]
  },
  {
   "cell_type": "markdown",
   "metadata": {},
   "source": [
    "For any of the above distributions, suppose the distribution is `X`, we can draw `n` samples using\n",
    "```python\n",
    "X.rvs(size=n)\n",
    "```\n",
    "This returns a 1-D array of `n` elements. We can also sample a multi-dimensional array of values by giving a tuple that specifies the desired shape. See example below.\n"
   ]
  },
  {
   "cell_type": "code",
   "execution_count": 186,
   "metadata": {},
   "outputs": [
    {
     "name": "stdout",
     "output_type": "stream",
     "text": [
      "1\n",
      "[1 1 1 0 1 0 1 1 0 1]\n",
      "[[1 1 1 0 0]\n",
      " [0 1 1 1 1]]\n"
     ]
    }
   ],
   "source": [
    "from scipy.stats import bernoulli\n",
    "np.random.seed(0)    # Set seed for consistent output\n",
    "X=bernoulli(p=0.5)\n",
    "print(X.rvs())       # Default is size=1\n",
    "print(X.rvs(size=10))   # Sample 10 times\n",
    "print(X.rvs(size=(2,5))) # Return samples in 2 rows of 5 columns each"
   ]
  },
  {
   "cell_type": "markdown",
   "metadata": {},
   "source": [
    "## Plotting\n",
    "\n",
    "The `matplotlib.pyplot` package can be used for plotting. Commonly used commands are:\n",
    "\n",
    "- `figure`: create a new figure (otherwise plots will be drawn together). Can specify figure size.\n",
    "- `plot`: create a scatter or line plot\n",
    "- `hist`: create a histogram\n",
    "- `show`: show all plots created so far (default is not show)\n",
    "- `title`: set the title of the plot\n",
    "- `xlabel`: set the x-axis label\n",
    "- `ylabel`: set the y-axis label\n",
    "- `vlines`: create a set of vertical lines with given x, ymin, ymax values.\n",
    "- `xlim`: set the limits of the x-axis shown.\n",
    "- `ylim`: set the limits of the y-axis.\n",
    "- `legend`: create a legend (each plot must have a `label` argument).\n",
    "- `savefig`: save the figure to a file. Can use to specify file type and figure size.\n",
    "- `close`: close figures (otherwise figure wastes memory)\n",
    "\n",
    "See the following example for illustration"
   ]
  },
  {
   "cell_type": "code",
   "execution_count": 201,
   "metadata": {},
   "outputs": [
    {
     "data": {
      "image/png": "[encoded data removed]",
      "text/plain": [
       "<matplotlib.figure.Figure at 0x1817fcde358>"
      ]
     },
     "metadata": {},
     "output_type": "display_data"
    },
    {
     "data": {
      "image/png": "[encoded data removed]",
      "text/plain": [
       "<matplotlib.figure.Figure at 0x1810140f240>"
      ]
     },
     "metadata": {},
     "output_type": "display_data"
    },
    {
     "data": {
      "image/png": "[encoded data removed]",
      "text/plain": [
       "<matplotlib.figure.Figure at 0x1817feeb748>"
      ]
     },
     "metadata": {},
     "output_type": "display_data"
    }
   ],
   "source": [
    "import matplotlib.pyplot as plt\n",
    "values=[1,1,3,4,2,1,3,4,8]\n",
    "plt.figure(figsize=(8,5))\n",
    "plt.hist(values,bins=3)\n",
    "plt.title('Histogram with 3 equal-sized bins')\n",
    "plt.xlabel('Values')\n",
    "plt.ylabel('Frequency')\n",
    "plt.savefig('hist1.png')\n",
    "\n",
    "plt.figure(figsize=(10,5))\n",
    "plt.hist(values,bins=[0,1,2,3,4,5,6,7,8],density=True)\n",
    "plt.title('Histogram with bins indicated by given list')\n",
    "plt.xlabel('Values')\n",
    "plt.ylabel('Proportion')\n",
    "plt.savefig('hist1.pdf')\n",
    "\n",
    "plt.figure()\n",
    "# In plot, the first argument specifies the x, and the second the y\n",
    "plt.plot([1,3,5],[2,6,3],'r--',label='plot line')\n",
    "plt.plot([1,3,5],[3,10,8],'go', label='plot points')\n",
    "# In vlines, the first argument gives x, the second the ymin, the third the ymax.\n",
    "plt.vlines([1,2,4,6],[2,4,1,6],[3,6,8,7],label='vertical lines')\n",
    "plt.legend()\n",
    "plt.title('Title')\n",
    "plt.xlabel('X axis')\n",
    "plt.ylabel('Y axis')\n",
    "plt.xlim((-1,8))\n",
    "plt.ylim((0,12))\n",
    "plt.savefig('plot.png',figsize=(10,5))\n",
    "plt.show()"
   ]
  },
  {
   "cell_type": "markdown",
   "metadata": {},
   "source": [
    "## Numpy Arrays\n",
    "\n",
    "The `numpy` module implements the object type `numpy.ndarray`. A 1-dimensional array is like a list. A 2-dimensional array is like a table. The benefit of arrays over lists it that we can do operations on the whole array at once, instead of going through each element one at a time as with a list. This is called \"vectorized\" operations, and it makes the code shorter to write and faster to run. All `scipy` and `numpy` functions deal with arrays rather than lists. `DataFrame` and `Series` from the `pandas` module is also built on numpy arrays.\n",
    "\n",
    "The following code illustrates the common numpy array operations. Read the comments for explanation of each line, as well as the print outputs to see what's the result.\n"
   ]
  },
  {
   "cell_type": "code",
   "execution_count": 106,
   "metadata": {},
   "outputs": [
    {
     "name": "stdout",
     "output_type": "stream",
     "text": [
      "-----Creating numpy arrays-----------------  Read comments above\n",
      "X=[ 0.  0.  0.  0.  0.]\n",
      " Y=[[ 1.  1.  1.]\n",
      " [ 1.  1.  1.]]\n",
      " Z=[[1 2 3]\n",
      " [4 5 6]]\n",
      " K=[ 2  4  6  8 10 12]\n",
      " L=[  1.    2.5   4.    5.5   7.    8.5  10. ]\n",
      "X.shape=(5,) \t Y.shape=(2, 3) \n"
     ]
    }
   ],
   "source": [
    "# Importing the numpy package\n",
    "import numpy as np\n",
    "\n",
    "# Creating arrays.\n",
    "print('-----Creating numpy arrays-----------------  Read comments above')\n",
    "X=np.zeros(5)               # a list of 5 zeros. \n",
    "Y=np.ones((2,3))            # 2 rows and 3 columns of ones.\n",
    "Z=np.array([[1,2,3],[4,5,6]])  # 2 rows of numbers, with given number\n",
    "J=np.array([1,0,0,1])       # A list of 4 numbers.\n",
    "\n",
    "K=np.arange(2,13,2)        # Similar to range, except for numpy arrays. \n",
    "L=np.linspace(1,10,7)     # 7 points that interpolate between 1 and 10.\n",
    "print('X={0}\\n Y={1}\\n Z={2}\\n K={3}\\n L={4}'.format(X,Y,Z,K,L))\n",
    "print('X.shape={0} \\t Y.shape={1} '.format(X.shape,Y.shape)) \n",
    "# Accessing the shape of the array\n"
   ]
  },
  {
   "cell_type": "code",
   "execution_count": 148,
   "metadata": {},
   "outputs": [
    {
     "name": "stdout",
     "output_type": "stream",
     "text": [
      "\n",
      "------Indexing------------------------- Read comments above\n",
      "Z=\n",
      " [[1 2 3]\n",
      " [4 5 6]]\n",
      "K=\n",
      " [ 2  4  6  8 10 12]\n",
      "Z[0,1]= 2\n",
      "K[2]= 6\n",
      "Z[1,:]= [4 5 6]\n",
      "Z[:,1]= [2 5]\n",
      "J= [1 0 0 1]\n",
      "Z[J,:]= [[4 5 6]\n",
      " [1 2 3]\n",
      " [1 2 3]\n",
      " [4 5 6]]\n",
      "Z[:,J]= [[2 1 1 2]\n",
      " [5 4 4 5]]\n",
      "K[:2]= [2 4]\n",
      "K[2:]= [ 6  8 10 12]\n",
      "K[1:3]= [4 6]\n",
      "Z[:,:2]=\n",
      " [[1 2]\n",
      " [4 5]]\n",
      "K[[True,True,False,False,True,True]]= [ 2  4 10 12]\n",
      "Z2=\n",
      " [[1 2 3]\n",
      " [4 5 6]]\n",
      "Z2[0,:]=3\n",
      "Z2=\n",
      " [[3 3 3]\n",
      " [4 5 6]]\n"
     ]
    }
   ],
   "source": [
    "# Indexing\n",
    "print('\\n------Indexing------------------------- Read comments above')\n",
    "print('Z=\\n',Z)\n",
    "print('K=\\n',K)\n",
    "print('Z[0,1]=',Z[0,1])       # Element in 0th row and 1st column\n",
    "print('K[2]=',K[2])           # 3rd element\n",
    "print('Z[1,:]=',Z[1,:])           # The second row\n",
    "print('Z[:,1]=',Z[:,1])       # The second column\n",
    "print('J=',J)\n",
    "print('Z[J,:]=',Z[J,:])       # access the given rows. This is called fancy indexing.\n",
    "print('Z[:,J]=',Z[:,J])       # access the given columns. Fancy indexing.\n",
    "print('K[:2]=',K[:2])         # Everything before the 3rd element.\n",
    "print('K[2:]=',K[2:])          # Everything since the 3rd element.\n",
    "print('K[1:3]=',K[1:3])          # From the 2nd up to before the 4th element.\n",
    "print('Z[:,:2]=\\n',Z[:,:2])      # all rows and everything up to 3rd column\n",
    "\n",
    "# Give only the first two and last two elements. \n",
    "print('K[[True,True,False,False,True,True]]=',K[[True,True,False,False,True,True]]) \n",
    "\n",
    "Z2=np.copy(Z)  # Make a copy of Z so we don't change it\n",
    "print('Z2=\\n',Z2)\n",
    "Z2[0,:]=3      # Assign a value to the slice of Z2\n",
    "print('Z2[0,:]=3\\nZ2=\\n',Z2)  # Print what Z2 looks like after assignment\n"
   ]
  },
  {
   "cell_type": "code",
   "execution_count": 232,
   "metadata": {},
   "outputs": [
    {
     "name": "stdout",
     "output_type": "stream",
     "text": [
      "\n",
      "----Element wise operations---------------- Read comments above\n",
      "Z=\n",
      " [[1 2 3]\n",
      " [4 5 6]]\n",
      "Y=\n",
      " [[ 1.  1.  1.]\n",
      " [ 1.  1.  1.]]\n",
      "Z+Y=\n",
      " [[ 2.  3.  4.]\n",
      " [ 5.  6.  7.]]\n",
      "Z-Y=\n",
      " [[ 0.  1.  2.]\n",
      " [ 3.  4.  5.]]\n",
      "Z*2=\n",
      " [[ 2  4  6]\n",
      " [ 8 10 12]]\n",
      "Z/2=\n",
      " [[ 0.5  1.   1.5]\n",
      " [ 2.   2.5  3. ]]\n",
      "Z/Z=\n",
      " [[ 1.  1.  1.]\n",
      " [ 1.  1.  1.]]\n",
      "Z>3=\n",
      " [[False False False]\n",
      " [ True  True  True]]\n",
      "(Z>=3)&(Z<=5)=\n",
      " [[False False  True]\n",
      " [ True  True False]]\n",
      "(Z<3)|(Z>5)=\n",
      " [[ True  True False]\n",
      " [False False  True]]\n",
      "-Z=\n",
      " [[-1 -2 -3]\n",
      " [-4 -5 -6]]\n",
      "np.sqrt(Z)=\n",
      " [[ 1.          1.41421356  1.73205081]\n",
      " [ 2.          2.23606798  2.44948974]]\n",
      "np.power(Z)=\n",
      " [[ 1  4  9]\n",
      " [16 25 36]]\n",
      "np.log(Z)=\n",
      " [[ 0.          0.69314718  1.09861229]\n",
      " [ 1.38629436  1.60943791  1.79175947]]\n",
      "Z-3=\n",
      " [[-2 -1  0]\n",
      " [ 1  2  3]]\n",
      "np.abs(Z-3)=\n",
      " [[2 1 0]\n",
      " [1 2 3]]\n",
      "np.cumsum(Z)= [ 1  3  6 10 15 21]\n"
     ]
    }
   ],
   "source": [
    "# Element wise operation\n",
    "print('\\n----Element wise operations---------------- Read comments above')\n",
    "print('Z=\\n',Z)\n",
    "print('Y=\\n',Y)\n",
    "print('Z+Y=\\n',Z+Y) # Add the two arrays element wise. Note equal shapes of arrays.\n",
    "print('Z-Y=\\n',Z-Y)\n",
    "print('Z*2=\\n',Z*2)\n",
    "print('Z/2=\\n',Z/2)\n",
    "print('Z/Z=\\n',Z/Z) # Divide each element of Z by each element of Z.\n",
    "print('Z>3=\\n',Z>3) # Create True/False array of whether each element >= 3\n",
    "\n",
    "# Create True/False array for element being at least 3 AND no more than 5.\n",
    "print('(Z>=3)&(Z<=5)=\\n',(Z>=3)&(Z<=5))\n",
    "\n",
    "# Create True/False array for element less than 3 OR bigger than 5\n",
    "print('(Z<3)|(Z>5)=\\n',(Z<3)|(Z>5)) \n",
    "\n",
    "print('-Z=\\n',-Z)   # Negate each element\n",
    "print('np.sqrt(Z)=\\n',np.sqrt(Z)) # square root\n",
    "print('np.power(Z)=\\n',np.power(Z,2)) # 2nd power (i.e. square)\n",
    "print('np.log(Z)=\\n',np.log(Z)) # natual log\n",
    "print('Z-3=\\n',Z-3) \n",
    "print('np.abs(Z-3)=\\n',np.abs(Z-3)) # Absolute value\n",
    "\n",
    "# Flatten the array into 1-D and compute array of running totals\n",
    "print('np.cumsum(Z)=',np.cumsum(Z)) "
   ]
  },
  {
   "cell_type": "code",
   "execution_count": 158,
   "metadata": {},
   "outputs": [
    {
     "name": "stdout",
     "output_type": "stream",
     "text": [
      "\n",
      "-----Simple Statistics--------------------- Read comments above\n",
      "Z=\n",
      " [[1 2 3]\n",
      " [4 5 6]]\n",
      "np.sum(Z)= 21\n",
      "np.sum(Z,axis=0)= [5 7 9]\n",
      "np.sum(Z,axis=1)= [ 6 15]\n",
      "np.average(Z)= 3.5\n",
      "np.std(Z)= 1.70782512766\n",
      "np.sum(Z>3)= 3\n",
      "np.sum((Z>=2)&(Z<=5))= 4\n",
      "np.sum((Z<2)|(Z>5))= 3\n"
     ]
    }
   ],
   "source": [
    "# Simple statistics\n",
    "print('\\n-----Simple Statistics--------------------- Read comments above')\n",
    "print('Z=\\n',Z)\n",
    "print('np.sum(Z)=',np.sum(Z))       # Total of elements\n",
    "print('np.sum(Z,axis=0)=',np.sum(Z,axis=0)) # Summing rows for each column\n",
    "print('np.sum(Z,axis=1)=',np.sum(Z,axis=1)) # Summing columns for each row\n",
    "print('np.average(Z)=',np.average(Z))  # Average of elements\n",
    "print('np.std(Z)=',np.std(Z))        # Standard deviation of elements\n",
    "print('np.sum(Z>3)=',np.sum(Z>3))   # Count number of elements greater than 3.\n",
    "\n",
    "# Count number of elements between 2 and 5\n",
    "print('np.sum((Z>=2)&(Z<=5))=',np.sum((Z>=2)&(Z<=5)))   \n",
    "\n",
    "# Count number of elements less than 2 or bigger than 5\n",
    "print('np.sum((Z<2)|(Z>5))=',np.sum((Z<=2)|(Z>5)))   \n"
   ]
  },
  {
   "cell_type": "code",
   "execution_count": 104,
   "metadata": {},
   "outputs": [
    {
     "name": "stdout",
     "output_type": "stream",
     "text": [
      "\n",
      "-----Manipulating--------------------- Read comments above\n",
      "Z=\n",
      " [[1 2 3]\n",
      " [4 5 6]]\n",
      "Z.T=\n",
      " [[1 4]\n",
      " [2 5]\n",
      " [3 6]]\n",
      "np.where(X>=3)= (array([0, 1, 1, 1], dtype=int64), array([2, 0, 1, 2], dtype=int64))\n",
      "X=np.copy(Z); X[np.where(X>=3)]=3\n",
      "X=\n",
      " [[1 2 3]\n",
      " [3 3 3]]\n",
      "np.hstack((Z,X))=\n",
      " [[1 2 3 1 2 3]\n",
      " [4 5 6 3 3 3]]\n",
      "np.vstack((Z,X))=\n",
      " [[1 2 3]\n",
      " [4 5 6]\n",
      " [1 2 3]\n",
      " [3 3 3]]\n",
      "K= [ 2  4  6  8 10 12]\n",
      "K.reshape((3,2))=\n",
      " [[ 2  4]\n",
      " [ 6  8]\n",
      " [10 12]]\n",
      "Z.shape= (2, 3)\n"
     ]
    }
   ],
   "source": [
    "# Manipulating\n",
    "print('\\n-----Manipulating--------------------- Read comments above')\n",
    "print('Z=\\n',Z)\n",
    "print('Z.T=\\n',Z.T) # Transpose\n",
    "X=np.copy(Z)    # Create a copy of Z, so that X and Z can be changed independently\n",
    "# Find the index of rows and columns satisfying the given condition X>=3.\n",
    "print('np.where(X>=3)=',np.where(X>=3)) \n",
    "X[np.where(X>=3)]=3 # Set where X is larger or equal to 3 to 3.\n",
    "print('X=np.copy(Z); X[np.where(X>=3)]=3')\n",
    "print('X=\\n',X)\n",
    "print('np.hstack((Z,X))=\\n',np.hstack((Z,X)))  # Horizontally stack two arrays.\n",
    "print('np.vstack((Z,X))=\\n',np.vstack((Z,X)))  # Vertically stack two arrays.\n",
    "print('K=',K)\n",
    "print('K.reshape((3,2))=\\n',K.reshape((3,2))) # Reshape the array.\n",
    "print('Z.shape=',Z.shape)\n"
   ]
  },
  {
   "cell_type": "code",
   "execution_count": 126,
   "metadata": {},
   "outputs": [
    {
     "name": "stdout",
     "output_type": "stream",
     "text": [
      "\n",
      "------Iterating------------- Read comments above\n",
      "Z=\n",
      " [[1 2 3]\n",
      " [4 5 6]]\n",
      "Iterating through rows of Z\n",
      "[1 2 3]\n",
      "[4 5 6]\n",
      "Iterating through rows of Z.T\n",
      "[1 4]\n",
      "[2 5]\n",
      "[3 6]\n"
     ]
    }
   ],
   "source": [
    "# Iterating\n",
    "print('\\n------Iterating------------- Read comments above')\n",
    "print('Z=\\n',Z)\n",
    "print('Iterating through rows of Z')\n",
    "for row in Z:\n",
    "    print(row)\n",
    "print('Iterating through rows of Z.T')\n",
    "for row in Z.T:    # Same as iterating through the columns\n",
    "    print(row)"
   ]
  },
  {
   "cell_type": "code",
   "execution_count": 160,
   "metadata": {},
   "outputs": [
    {
     "name": "stdout",
     "output_type": "stream",
     "text": [
      "\n",
      "------Sorting------------- Read comments above\n",
      "L=\n",
      " [[ 6 10  1  2]\n",
      " [ 5  8 10  3]]\n",
      "np.sort(L)=\n",
      " [[ 1  2  6 10]\n",
      " [ 3  5  8 10]]\n",
      "np.sort(L,axis=0)=\n",
      " [[ 5  8  1  2]\n",
      " [ 6 10 10  3]]\n",
      "np.argsort(L)=\n",
      " [[2 3 0 1]\n",
      " [3 0 1 2]]\n",
      "np.argsort(L,axis=0)=\n",
      " [[1 1 0 0]\n",
      " [0 0 1 1]]\n",
      "L[:,L[0].argsort()]=\n",
      " [[ 1  2  6 10]\n",
      " [10  3  5  8]]\n",
      "L[L[:,0].argsort(),:]=\n",
      " [[ 5  8 10  3]\n",
      " [ 6 10  1  2]]\n"
     ]
    }
   ],
   "source": [
    "# Sorting\n",
    "print('\\n------Sorting------------- Read comments above')\n",
    "L=np.array([[6,10,1,2],[5,8,10,3]])\n",
    "print('L=\\n',L)\n",
    "\n",
    "# Return an array that sorts each row of L (does not change L)\n",
    "print('np.sort(L)=\\n',np.sort(L))   \n",
    "\n",
    "# Return an array that sorts each column of L (does not change L)\n",
    "print('np.sort(L,axis=0)=\\n',np.sort(L,axis=0))   \n",
    "\n",
    "# Return the column indices of each row of L in increasing order.\n",
    "print('np.argsort(L)=\\n',np.argsort(L))          \n",
    "\n",
    "# Return the row indices of each column of L in increasing order.\n",
    "print('np.argsort(L,axis=0)=\\n',np.argsort(L,axis=0))          \n",
    "\n",
    "# Sort columns of L by row 0\n",
    "print('L[:,L[0].argsort()]=\\n',L[:,L[0].argsort()]) \n",
    "\n",
    "# Sort rows of L by column 0\n",
    "print('L[L[:,0].argsort(),:]=\\n',L[L[:,0].argsort(),:]) "
   ]
  },
  {
   "cell_type": "code",
   "execution_count": 230,
   "metadata": {},
   "outputs": [
    {
     "name": "stdout",
     "output_type": "stream",
     "text": [
      "\n",
      "------Optimization------------- Read comments above\n",
      "Z=\n",
      " [[1 2 3]\n",
      " [4 5 6]]\n",
      "Z2=\n",
      " [[3 2 5]\n",
      " [4 5 4]]\n",
      "np.maximum(Z,3)=\n",
      " [[3 3 3]\n",
      " [4 5 6]]\n",
      "np.minimum(Z,3)=\n",
      " [[1 2 3]\n",
      " [3 3 3]]\n",
      "np.minimum(Z,Z2)=\n",
      " [[1 2 3]\n",
      " [4 5 4]]\n",
      "np.max(Z)= 6\n",
      "np.min(Z)= 1\n",
      "np.argmax(Z2,axis=0)= [1 1 0]\n",
      "np.argmin(Z2,axis=1)= [1 0]\n",
      "np.argwhere(Z2>=4)=\n",
      " [[0 2]\n",
      " [1 0]\n",
      " [1 1]\n",
      " [1 2]]\n"
     ]
    }
   ],
   "source": [
    "# Optimization\n",
    "print('\\n------Optimization------------- Read comments above')\n",
    "\n",
    "Z2=np.array([[3,2,5],[4,5,4]])\n",
    "print('Z=\\n',Z)\n",
    "print('Z2=\\n',Z2)\n",
    "print('np.maximum(Z,3)=\\n',np.maximum(Z,3)) # element wise maximum (contrast np.max)\n",
    "print('np.minimum(Z,3)=\\n',np.minimum(Z,3)) # element wise minimum (contrast np.min)\n",
    "print('np.minimum(Z,Z2)=\\n',np.minimum(Z,Z2)) # element wise minimum \n",
    "print('np.max(Z)=',np.max(Z))        # Maximum value of all elements\n",
    "print('np.min(Z)=',np.min(Z))        # Maximum value of all elements\n",
    "\n",
    "# Find for each column of Z2 the row index of the first element that is the largest.\n",
    "print('np.argmax(Z2,axis=0)=',np.argmax(Z2,axis=0))  \n",
    "\n",
    "# Find for each row of Z2 the column index of the first element that is the smallest.\n",
    "print('np.argmin(Z2,axis=1)=',np.argmin(Z2,axis=1))\n",
    "\n",
    "# Find the (row,column) indices where Z2 satisfies the given condition\n",
    "# For example Z2[0,2]>=4, Z2[1,0]>=4, Z2[1,1]>=4, Z2[1,2]>=4\n",
    "print('np.argwhere(Z2>=4)=\\n',np.argwhere(Z2>=4))"
   ]
  },
  {
   "cell_type": "code",
   "execution_count": 122,
   "metadata": {},
   "outputs": [
    {
     "name": "stdout",
     "output_type": "stream",
     "text": [
      "a=\n",
      " [[1 3 3]\n",
      " [5 4 5]]\n",
      "b= (after loading a saved csv file of a)\n",
      " [[ 1.  3.  3.]\n",
      " [ 5.  4.  5.]]\n"
     ]
    }
   ],
   "source": [
    "# Saving and loading to file\n",
    "a=np.array([[1,3,3],[5,4,5]])\n",
    "\n",
    "# Saving the array to a CSV file, delimiter specifies comma separation\n",
    "np.savetxt('arrayFile.csv',a,delimiter=',') \n",
    "\n",
    "# Load an array from a CSV file, delimiter specifies comma separation\n",
    "b=np.loadtxt('arrayFile.csv',delimiter=',')\n",
    "\n",
    "print ('a=\\n',a)\n",
    "print ('b= (after loading a saved csv file of a)\\n',b)"
   ]
  },
  {
   "cell_type": "markdown",
   "metadata": {},
   "source": [
    "## Pandas\n",
    "\n",
    "`pandas` is a package built on top of `numpy` arrays that makes dealing with data in table formats easier. It mimicks some of the functionality of R DataFrames and is the main Python workhorse for descriptive analytics. This course does not focus on `pandas` (as the focus is on prescriptive, rather than descriptive analytics) but we will make some use of it in the project.\n",
    "\n",
    "The two data types in `pandas` are `Series` and `DataFrame`. `Series` operates like an 1-D array with labels for each element (so like a dictionary that keeps track of the order of keys). The labels are called \"indices.\" `DataFrame` operations like a 2-D array with column and row labels. The row labels are also called \"indices.\" Below code example illustrates how to define each object, read and write from data, and do simple operations on them."
   ]
  },
  {
   "cell_type": "code",
   "execution_count": 273,
   "metadata": {},
   "outputs": [
    {
     "name": "stdout",
     "output_type": "stream",
     "text": [
      "One      3\n",
      "Two      4\n",
      "Three    5\n",
      "Four     6\n",
      "dtype: int64 \n",
      "\n",
      "type(s)= <class 'pandas.core.series.Series'>\n",
      "s.iloc[0]= 3\n",
      "s.loc['Two']= 4\n",
      "\n",
      "s.iloc[2:4]=\n",
      "Three    5\n",
      "Four     6\n",
      "dtype: int64\n",
      "\n",
      "s.loc['Two':'Four']=\n",
      "Two      4\n",
      "Three    5\n",
      "Four     6\n",
      "dtype: int64\n",
      "\n",
      "s.as_matrix()= [3 4 5 6]\n"
     ]
    }
   ],
   "source": [
    "import pandas as pd\n",
    "s=pd.Series([3,4,5,6],index=['One','Two','Three','Four'])\n",
    "print(s,'\\n')  \n",
    "print('type(s)=',type(s))\n",
    "print('s.iloc[0]=',s.iloc[0])  # Indexing by row number\n",
    "print(\"s.loc['Two']=\",s.loc['Two']) # Indexing by row label\n",
    "print()\n",
    "\n",
    "print('s.iloc[2:4]=\\n{0}\\n'.format(s.iloc[2:4]))  # Slicing by row number\n",
    "# Slicing by label\n",
    "print(\"s.loc['Two':'Four']=\\n{0}\\n\".format(s.loc['Two':'Four'])) \n",
    "\n",
    "print('s.as_matrix()=',s.as_matrix()) # Changing into 1-D numpy array\n",
    "\n",
    "s.to_csv('Series.csv') # Save to a csv file.\n"
   ]
  },
  {
   "cell_type": "code",
   "execution_count": 306,
   "metadata": {},
   "outputs": [
    {
     "name": "stdout",
     "output_type": "stream",
     "text": [
      "     A  B  C\n",
      "One  1  3  5\n",
      "Two  4  2  6\n",
      "type(df)= <class 'pandas.core.frame.DataFrame'> \n",
      "\n",
      "<class 'pandas.core.frame.DataFrame'>\n",
      "Index: 2 entries, One to Two\n",
      "Data columns (total 3 columns):\n",
      "A    2 non-null int64\n",
      "B    2 non-null int64\n",
      "C    2 non-null int64\n",
      "dtypes: int64(3)\n",
      "memory usage: 64.0+ bytes\n",
      "df.iloc[0,1]= 3\n",
      "df.loc[\"One\",\"B\"]= 3\n",
      "df.iloc[0,:]=\n",
      "A    1\n",
      "B    3\n",
      "C    5\n",
      "Name: One, dtype: int64\n",
      "\n",
      "df.loc[\"One\",:]=\n",
      "A    1\n",
      "B    3\n",
      "C    5\n",
      "Name: One, dtype: int64\n",
      "\n",
      "df['B']=\n",
      "One    3\n",
      "Two    2\n",
      "Name: B, dtype: int64\n",
      "\n",
      "df.B=\n",
      "One    3\n",
      "Two    2\n",
      "Name: B, dtype: int64\n",
      "\n",
      "df[df.B>=3]:\n",
      "     A  B  C\n",
      "One  1  3  5 \n",
      "\n",
      "df.query('A>3'):\n",
      "     A  B  C\n",
      "Two  4  2  6 \n",
      "\n",
      "df.as_matrix()=\n",
      " [[1 3 5]\n",
      " [4 2 6]]\n"
     ]
    },
    {
     "data": {
      "text/html": [
       "<div>\n",
       "<style scoped>\n",
       "    .dataframe tbody tr th:only-of-type {\n",
       "        vertical-align: middle;\n",
       "    }\n",
       "\n",
       "    .dataframe tbody tr th {\n",
       "        vertical-align: top;\n",
       "    }\n",
       "\n",
       "    .dataframe thead th {\n",
       "        text-align: right;\n",
       "    }\n",
       "</style>\n",
       "<table border=\"1\" class=\"dataframe\">\n",
       "  <thead>\n",
       "    <tr style=\"text-align: right;\">\n",
       "      <th></th>\n",
       "      <th>A</th>\n",
       "      <th>B</th>\n",
       "      <th>C</th>\n",
       "    </tr>\n",
       "  </thead>\n",
       "  <tbody>\n",
       "    <tr>\n",
       "      <th>One</th>\n",
       "      <td>1</td>\n",
       "      <td>3</td>\n",
       "      <td>5</td>\n",
       "    </tr>\n",
       "    <tr>\n",
       "      <th>Two</th>\n",
       "      <td>4</td>\n",
       "      <td>2</td>\n",
       "      <td>6</td>\n",
       "    </tr>\n",
       "  </tbody>\n",
       "</table>\n",
       "</div>"
      ],
      "text/plain": [
       "     A  B  C\n",
       "One  1  3  5\n",
       "Two  4  2  6"
      ]
     },
     "execution_count": 306,
     "metadata": {},
     "output_type": "execute_result"
    }
   ],
   "source": [
    "import pandas as pd\n",
    "df=pd.DataFrame([[1,3,5],[4,2,6]],columns=['A','B','C'],index=['One','Two'])\n",
    "print(df)\n",
    "print('type(df)=',type(df),'\\n')\n",
    "\n",
    "df.info()\n",
    "print('df.iloc[0,1]=',df.iloc[0,1]) # Indexing like an array\n",
    "print('df.loc[\"One\",\"B\"]=',df.loc[\"One\",\"B\"]) # Indexing using labels\n",
    "\n",
    "print('df.iloc[0,:]=\\n{0}\\n'.format(df.iloc[0,:])) # Slicing like an array\n",
    "print('df.loc[\"One\",:]=\\n{0}\\n'.format(df.loc[\"One\",:])) # Slicing using labels\n",
    "print(\"df['B']=\\n{0}\\n\".format(df['B'])) # Accessing column\n",
    "print(\"df.B=\\n{0}\\n\".format(df['B'])) # Accessing column (equivalent to above)\n",
    "\n",
    "print(\"df[df.B>=3]:\")\n",
    "print(df[df.B>=3],'\\n')      # Filtering rows for which column B is at least 3\n",
    "\n",
    "print(\"df.query('A>3'):\")   # Another way of filtering\n",
    "print(df.query('A>3'),'\\n')\n",
    "\n",
    "print('df.as_matrix()=\\n',df.as_matrix()) # Change to numpy array\n",
    "\n",
    "df.to_csv('dataframe.csv')              # Write to file\n",
    "pd.read_csv('dataframe.csv',index_col=0) # Read from file"
   ]
  }
 ],
 "metadata": {
  "kernelspec": {
   "display_name": "Python 3",
   "language": "python",
   "name": "python3"
  },
  "language_info": {
   "codemirror_mode": {
    "name": "ipython",
    "version": 3
   },
   "file_extension": ".py",
   "mimetype": "text/x-python",
   "name": "python",
   "nbconvert_exporter": "python",
   "pygments_lexer": "ipython3",
   "version": "3.6.3"
  }
 },
 "nbformat": 4,
 "nbformat_minor": 2
}
